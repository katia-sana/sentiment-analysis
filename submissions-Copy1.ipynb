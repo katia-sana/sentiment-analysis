{
 "cells": [
  {
   "cell_type": "code",
   "execution_count": 15,
   "metadata": {
    "collapsed": false
   },
   "outputs": [],
   "source": [
    "from sklearn.feature_extraction.text import TfidfVectorizer\n",
    "from sklearn.naive_bayes import MultinomialNB\n",
    "import pandas as pd\n",
    "from sklearn.svm import LinearSVC\n",
    "from sklearn import svm\n",
    "from sklearn.svm import SVC\n",
    "import string\n",
    "from nltk.classify.scikitlearn import SklearnClassifier\n",
    "from nltk.corpus import stopwords\n",
    "from nltk.corpus import stopwords\n",
    "from nltk.stem.wordnet import WordNetLemmatizer\n",
    "from nltk.stem.porter import PorterStemmer\n",
    "import nltk"
   ]
  },
  {
   "cell_type": "code",
   "execution_count": 9,
   "metadata": {
    "collapsed": true
   },
   "outputs": [],
   "source": [
    "movies_train = pd.read_table(\"train.tsv\")\n",
    "movies_test = pd.read_table(\"test.tsv\")\n"
   ]
  },
  {
   "cell_type": "code",
   "execution_count": 13,
   "metadata": {
    "collapsed": false
   },
   "outputs": [],
   "source": [
    "#stop words\n",
    "stop = stopwords.words('english')\n",
    "stop.extend(['will','now','today','movie','serie','series','story','film'])\n",
    "\n",
    "# remove punctionation\n",
    "\n",
    "def remove_punctuation(s):\n",
    "    s = ''.join([i for i in s if i not in set(string.punctuation)])\n",
    "    return s\n",
    "\n",
    "movies_train['Phrase'] = movies_train['Phrase'].apply(remove_punctuation)\n",
    "movies_test['Phrase'] = movies_test['Phrase'].apply(remove_punctuation)\n",
    "\n",
    "#stemming\n",
    "stemmer = PorterStemmer()\n",
    "def stem_tokens(tokens, stemmer):\n",
    "    stemmed = []\n",
    "    for item in tokens:\n",
    "        stemmed.append(stemmer.stem(item))\n",
    "    return stemmed\n",
    "#lemmatisation\n",
    "lmtzr = WordNetLemmatizer()\n",
    "def lem_tokens(tokens, lmtzr):\n",
    "    tokked = []\n",
    "    for item in tokens:\n",
    "        tokked.append(lmtzr.lemmatize(item))\n",
    "    return tokked\n",
    "\n",
    "def tokenize(text):\n",
    "    tokens = nltk.word_tokenize(text)\n",
    "    stems = stem_tokens(tokens, stemmer)\n",
    "    tokens = lem_tokens (stems,lmtzr)\n",
    "    return stems"
   ]
  },
  {
   "cell_type": "code",
   "execution_count": 16,
   "metadata": {
    "collapsed": false
   },
   "outputs": [
    {
     "name": "stdout",
     "output_type": "stream",
     "text": [
      "(156060, 76210)\n"
     ]
    }
   ],
   "source": [
    "\n",
    "#instantiate classifier and vectorizer\n",
    "clf=MultinomialNB(alpha=10)\n",
    "vectorizer =TfidfVectorizer(min_df=1,ngram_range=(1,2), analyzer='word', stop_words=stop, tokenizer=tokenize , strip_accents = 'ascii')\n",
    "\n",
    "#Apply vectorizer to training data\n",
    "traindata= movies_train[\"Phrase\"]\n",
    "X_train=vectorizer.fit_transform(traindata)\n",
    "print(X_train.shape)\n",
    "#Label Ids\n",
    "y_train=movies_train[\"Sentiment\"]\n",
    "\n",
    "#Train classifier\n",
    "#clf.fit(X_train, y_train)\n",
    "\n",
    "#clf = svm.SVC(decision_function_shape='ovo',kernel='linear', gamma=0.1,C=0.1)\n",
    "clf.fit(X_train, y_train)\n",
    "test_data = movies_test[\"Phrase\"]\n",
    "\n",
    "\n",
    "\n",
    "\n",
    "\n",
    "\n",
    "x_test = vectorizer.transform(test_data)\n",
    "\n",
    "prediction = clf.predict(x_test)"
   ]
  },
  {
   "cell_type": "code",
   "execution_count": 17,
   "metadata": {
    "collapsed": false
   },
   "outputs": [],
   "source": [
    "resultsthird = pd.DataFrame({\n",
    "    \"PhraseId\": movies_test[\"PhraseId\"],\n",
    "    \"Sentiment\": prediction\n",
    "    }\n",
    ")\n",
    "resultsthird.to_csv(\"first_submission_multi_sklearn.csv\", index= False)\n",
    "\n"
   ]
  }
 ],
 "metadata": {
  "kernelspec": {
   "display_name": "Python 2",
   "language": "python",
   "name": "python2"
  },
  "language_info": {
   "codemirror_mode": {
    "name": "ipython",
    "version": 2
   },
   "file_extension": ".py",
   "mimetype": "text/x-python",
   "name": "python",
   "nbconvert_exporter": "python",
   "pygments_lexer": "ipython2",
   "version": "2.7.12"
  }
 },
 "nbformat": 4,
 "nbformat_minor": 1
}
