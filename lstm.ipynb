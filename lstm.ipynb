{
 "cells": [
  {
   "cell_type": "code",
   "execution_count": 1,
   "metadata": {
    "collapsed": false
   },
   "outputs": [],
   "source": [
    "import pandas as pd\n",
    "import unicodedata \n",
    "import string\n",
    "from nltk.stem.porter import *\n",
    "import unicodedata \n",
    "from nltk.stem.snowball import SnowballStemmer\n",
    "from nltk.corpus import stopwords\n",
    "import numpy as np\n",
    "from nltk.stem.porter import PorterStemmer\n",
    "import nltk\n",
    "from nltk.stem.wordnet import WordNetLemmatizer\n"
   ]
  },
  {
   "cell_type": "code",
   "execution_count": 2,
   "metadata": {
    "collapsed": false
   },
   "outputs": [
    {
     "data": {
      "text/plain": [
       "array([1, 2, 3, 4, 0])"
      ]
     },
     "execution_count": 2,
     "metadata": {},
     "output_type": "execute_result"
    },
    {
     "name": "stdout",
     "output_type": "stream",
     "text": [
      "The history saving thread hit an unexpected error (OperationalError('database is locked',)).History will not be written to the database.\n"
     ]
    }
   ],
   "source": [
    "movies_data = pd.read_table(\"train.tsv\")\n",
    "movies_data.shape\n",
    "movies_data[\"Sentiment\"].unique()\n",
    "                    "
   ]
  },
  {
   "cell_type": "code",
   "execution_count": 65,
   "metadata": {
    "collapsed": false
   },
   "outputs": [
    {
     "data": {
      "text/plain": [
       "(66292, 3)"
      ]
     },
     "execution_count": 65,
     "metadata": {},
     "output_type": "execute_result"
    }
   ],
   "source": [
    "movie_test = pd.read_table(\"test.tsv\")\n",
    "movie_test.shape\n",
    "\n"
   ]
  },
  {
   "cell_type": "code",
   "execution_count": 30,
   "metadata": {
    "collapsed": false
   },
   "outputs": [
    {
     "data": {
      "text/html": [
       "<div>\n",
       "<table border=\"1\" class=\"dataframe\">\n",
       "  <thead>\n",
       "    <tr style=\"text-align: right;\">\n",
       "      <th></th>\n",
       "      <th>PhraseId</th>\n",
       "      <th>SentenceId</th>\n",
       "      <th>Phrase</th>\n",
       "      <th>Sentiment</th>\n",
       "    </tr>\n",
       "  </thead>\n",
       "  <tbody>\n",
       "    <tr>\n",
       "      <th>0</th>\n",
       "      <td>1</td>\n",
       "      <td>1</td>\n",
       "      <td>A series of escapades demonstrating the adage ...</td>\n",
       "      <td>1</td>\n",
       "    </tr>\n",
       "    <tr>\n",
       "      <th>1</th>\n",
       "      <td>2</td>\n",
       "      <td>1</td>\n",
       "      <td>A series of escapades demonstrating the adage ...</td>\n",
       "      <td>2</td>\n",
       "    </tr>\n",
       "    <tr>\n",
       "      <th>2</th>\n",
       "      <td>3</td>\n",
       "      <td>1</td>\n",
       "      <td>A series</td>\n",
       "      <td>2</td>\n",
       "    </tr>\n",
       "    <tr>\n",
       "      <th>3</th>\n",
       "      <td>4</td>\n",
       "      <td>1</td>\n",
       "      <td>A</td>\n",
       "      <td>2</td>\n",
       "    </tr>\n",
       "    <tr>\n",
       "      <th>4</th>\n",
       "      <td>5</td>\n",
       "      <td>1</td>\n",
       "      <td>series</td>\n",
       "      <td>2</td>\n",
       "    </tr>\n",
       "  </tbody>\n",
       "</table>\n",
       "</div>"
      ],
      "text/plain": [
       "   PhraseId  SentenceId                                             Phrase  \\\n",
       "0         1           1  A series of escapades demonstrating the adage ...   \n",
       "1         2           1  A series of escapades demonstrating the adage ...   \n",
       "2         3           1                                           A series   \n",
       "3         4           1                                                  A   \n",
       "4         5           1                                             series   \n",
       "\n",
       "   Sentiment  \n",
       "0          1  \n",
       "1          2  \n",
       "2          2  \n",
       "3          2  \n",
       "4          2  "
      ]
     },
     "execution_count": 30,
     "metadata": {},
     "output_type": "execute_result"
    }
   ],
   "source": [
    "movies_data.head()"
   ]
  },
  {
   "cell_type": "code",
   "execution_count": 66,
   "metadata": {
    "collapsed": false
   },
   "outputs": [],
   "source": [
    "movies_data['Phrase'] = (movies_data['Phrase'].str.lower()\n",
    "              .str.decode('utf-8')\n",
    "              .map(lambda x: unicodedata.normalize('NFKD', x))\n",
    "              .str.encode('ascii', 'ignore'))\n",
    "\n",
    "movie_test['Phrase'] = (movie_test['Phrase'].str.lower()\n",
    "              .str.decode('utf-8')\n",
    "              .map(lambda x: unicodedata.normalize('NFKD', x))\n",
    "              .str.encode('ascii', 'ignore'))"
   ]
  },
  {
   "cell_type": "code",
   "execution_count": 116,
   "metadata": {
    "collapsed": true
   },
   "outputs": [],
   "source": []
  },
  {
   "cell_type": "code",
   "execution_count": 49,
   "metadata": {
    "collapsed": false
   },
   "outputs": [],
   "source": []
  },
  {
   "cell_type": "code",
   "execution_count": 85,
   "metadata": {
    "collapsed": false
   },
   "outputs": [],
   "source": []
  },
  {
   "cell_type": "code",
   "execution_count": 67,
   "metadata": {
    "collapsed": true
   },
   "outputs": [],
   "source": [
    "cols = [\"Phrase\", \"Sentiment\"]\n",
    "movies_data_new =movies_data[cols]"
   ]
  },
  {
   "cell_type": "code",
   "execution_count": 68,
   "metadata": {
    "collapsed": true
   },
   "outputs": [],
   "source": [
    "movies_data_new.to_csv(\"train.csv\", index= False)\n",
    "movie_test.to_csv(\"test.csv\", index= False)"
   ]
  },
  {
   "cell_type": "code",
   "execution_count": 69,
   "metadata": {
    "collapsed": false
   },
   "outputs": [
    {
     "name": "stdout",
     "output_type": "stream",
     "text": [
      "66293\n"
     ]
    }
   ],
   "source": [
    "import csv\n",
    "with open(\"test.csv\", 'r') as file: \n",
    "    test = list(csv.reader(file))\n",
    "\n",
    "print(len(test))"
   ]
  },
  {
   "cell_type": "code",
   "execution_count": 70,
   "metadata": {
    "collapsed": false
   },
   "outputs": [],
   "source": [
    "import csv\n",
    "with open(\"train.csv\", 'r') as file: \n",
    "    reviews = list(csv.reader(file))\n",
    "\n"
   ]
  },
  {
   "cell_type": "code",
   "execution_count": null,
   "metadata": {
    "collapsed": true
   },
   "outputs": [],
   "source": []
  },
  {
   "cell_type": "code",
   "execution_count": 293,
   "metadata": {
    "collapsed": false
   },
   "outputs": [],
   "source": [
    "#reviews"
   ]
  },
  {
   "cell_type": "code",
   "execution_count": 78,
   "metadata": {
    "collapsed": false
   },
   "outputs": [],
   "source": [
    "def get_text(reviews, score):\n",
    "    # Join together the text in the reviews for a particular tone.\n",
    "    #We lowercase to avoid \"Not\" and \"not\" being seen as different words, for example.\n",
    "\n",
    "    return \"\\n\".join([r[0].lower() for r in reviews if r[1] == str(score)])"
   ]
  },
  {
   "cell_type": "code",
   "execution_count": 79,
   "metadata": {
    "collapsed": false
   },
   "outputs": [],
   "source": [
    "negative_text = get_text(reviews, 0)\n",
    "somewhat_negative_text = get_text(reviews, 1)\n",
    "neutral_text = get_text(reviews, 2)\n",
    "somewhat_positive_text = get_text(reviews, 3)\n",
    "positive_text = get_text(reviews, 4)\n",
    "\n"
   ]
  },
  {
   "cell_type": "code",
   "execution_count": 80,
   "metadata": {
    "collapsed": true
   },
   "outputs": [],
   "source": [
    "def stop_words(text):\n",
    "    text = ' '.join([word for word in text.split() if word not in stop])\n",
    "    return text\n",
    "\n",
    " "
   ]
  },
  {
   "cell_type": "code",
   "execution_count": 81,
   "metadata": {
    "collapsed": true
   },
   "outputs": [],
   "source": [
    "def remove_punctuation(s):\n",
    "    s = ''.join([i for i in s if i not in set(string.punctuation)])\n",
    "    return s\n",
    "\n"
   ]
  },
  {
   "cell_type": "code",
   "execution_count": 330,
   "metadata": {
    "collapsed": true
   },
   "outputs": [],
   "source": [
    "#negative_text = stop_words(negative_text)\n",
    "#negative_text = remove_punctuation(negative_text)\n",
    "\n",
    "#positive_text = stop_words(positive_text)\n",
    "#positive_text = remove_punctuation (positive_text)\n",
    "\n",
    "#somewhat_negative_text = stop_words(somewhat_negative_text)\n",
    "#somewhat_negative_text = remove_punctuation(somewhat_negative_text)\n",
    "\n",
    "#somewhat_positive_text = stop_words(somewhat_positive_text)\n",
    "#somewhat_positive_text = remove_punctuation (somewhat_positive_text)\n",
    "\n",
    "#neutral_text = stop_words(neutral_text)\n",
    "#neutral_text = remove_punctuation (neutral_text)"
   ]
  },
  {
   "cell_type": "code",
   "execution_count": 371,
   "metadata": {
    "collapsed": false
   },
   "outputs": [],
   "source": [
    "#neutral_text"
   ]
  },
  {
   "cell_type": "code",
   "execution_count": 82,
   "metadata": {
    "collapsed": false
   },
   "outputs": [],
   "source": [
    "with open(\"positive_text.txt\", \"w\") as text_file:\n",
    "    text_file.write(positive_text + \"\\n\")"
   ]
  },
  {
   "cell_type": "code",
   "execution_count": 83,
   "metadata": {
    "collapsed": true
   },
   "outputs": [],
   "source": [
    "with open(\"negative_text.txt\", \"w\") as text_file:\n",
    "    text_file.write(negative_text + \"\\n\")"
   ]
  },
  {
   "cell_type": "code",
   "execution_count": 84,
   "metadata": {
    "collapsed": true
   },
   "outputs": [],
   "source": [
    "with open(\"somewhat_negative_text.txt\", \"w\") as text_file:\n",
    "    text_file.write(somewhat_negative_text + \"\\n\")"
   ]
  },
  {
   "cell_type": "code",
   "execution_count": 85,
   "metadata": {
    "collapsed": true
   },
   "outputs": [],
   "source": [
    "with open(\"neutral_text.txt\", \"w\") as text_file:\n",
    "    text_file.write(neutral_text + \"\\n\")"
   ]
  },
  {
   "cell_type": "code",
   "execution_count": 86,
   "metadata": {
    "collapsed": true
   },
   "outputs": [],
   "source": [
    "with open(\"somewhat_positive_text.txt\", \"w\") as text_file:\n",
    "    text_file.write(neutral_text+ \"\\n\")"
   ]
  },
  {
   "cell_type": "markdown",
   "metadata": {},
   "source": [
    "LSTM"
   ]
  },
  {
   "cell_type": "code",
   "execution_count": 2,
   "metadata": {
    "collapsed": false
   },
   "outputs": [
    {
     "name": "stderr",
     "output_type": "stream",
     "text": [
      "Using TensorFlow backend.\n"
     ]
    }
   ],
   "source": [
    "from __future__ import unicode_literals\n",
    "import os\n",
    "import nltk\n",
    "import pandas as pd\n",
    "import string\n",
    "from keras.preprocessing import sequence\n",
    "from keras.models import Sequential\n",
    "from keras.layers.embeddings import Embedding\n",
    "from keras.layers.recurrent import LSTM\n",
    "from keras.layers.core import Dense, Dropout\n",
    "import numpy as np\n",
    "from gensim.models.word2vec import Word2Vec\n",
    "from gensim.corpora.dictionary import Dictionary\n",
    "np.random.seed(1337)  # For Reproducibility\n",
    "import multiprocessing\n",
    "from sklearn.feature_extraction.text import HashingVectorizer\n",
    "from sklearn.feature_extraction.text import TfidfTransformer\n",
    "from sklearn.pipeline import Pipeline\n",
    "from utils import *\n",
    "import glob\n",
    "from nltk.stem.porter import *\n",
    "import string\n",
    "import unicodedata\n",
    "from joblib import Parallel, delayed\n",
    "import tqdm\n",
    "import keras\n",
    "import gensim"
   ]
  },
  {
   "cell_type": "code",
   "execution_count": 44,
   "metadata": {
    "collapsed": false
   },
   "outputs": [],
   "source": [
    "def load_data():\n",
    "    from sklearn.model_selection import train_test_split\n",
    "    import io\n",
    "    sentences_pos = []\n",
    "    ff = \"positive_text.txt\"\n",
    "    with io.open(ff, 'r', encoding='utf8') as f:\n",
    "        for line in f:\n",
    "            sentences_pos.append(line)\n",
    "    sentences_neg = []\n",
    "    ff = \"negative_text.txt\"\n",
    "    with io.open(ff, 'r', encoding='utf8') as f:\n",
    "        for line in f:\n",
    "            sentences_neg.append(line)\n",
    "    \n",
    "    sentences_smwn = []\n",
    "    ff = \"somewhat_negative_text.txt\"\n",
    "    with io.open(ff, 'r', encoding='utf8') as f:\n",
    "        for line in f:\n",
    "            sentences_smwn.append(line)\n",
    "            \n",
    "    sentences_smwp = []    \n",
    "    ff = \"somewhat_positive_text.txt\"\n",
    "    with io.open(ff, 'r', encoding='utf8') as f:\n",
    "        for line in f:\n",
    "            sentences_smwp.append(line)\n",
    "            \n",
    "    sentences_neutral = []        \n",
    "    ff = \"neutral_text.txt\"\n",
    "    with io.open(ff, 'r', encoding='utf8') as f:\n",
    "        for line in f:\n",
    "            sentences_neutral.append(line)\n",
    "            \n",
    "            \n",
    "    X = sentences_pos+sentences_neg+sentences_smwn+sentences_neutral+sentences_smwp\n",
    "    y = [4]*len(sentences_pos)+[0]*len(sentences_neg)+[1]*len(sentences_smwn)+[2]*len(sentences_neutral) + [3]*len(sentences_smwp)\n",
    "    return X, y"
   ]
  },
  {
   "cell_type": "code",
   "execution_count": 45,
   "metadata": {
    "collapsed": false
   },
   "outputs": [
    {
     "data": {
      "text/plain": [
       "202715"
      ]
     },
     "execution_count": 45,
     "metadata": {},
     "output_type": "execute_result"
    }
   ],
   "source": [
    "X, y = load_data()\n",
    "len(X)"
   ]
  },
  {
   "cell_type": "code",
   "execution_count": 46,
   "metadata": {
    "collapsed": false
   },
   "outputs": [],
   "source": [
    "def stemmering_sentences(sentence):\n",
    "    # Remove punctuation, stopword and then stemmering\n",
    "    punctuation = set(string.punctuation)\n",
    "    stemmer = nltk.PorterStemmer()\n",
    "    lmtzr = WordNetLemmatizer()\n",
    "    # tmp = unicode(sentence, errors='ignore')\n",
    "    tmp = sentence\n",
    "    doc = [stemmer.stem(word.lower()) for word in nltk.word_tokenize(tmp) if\n",
    "           (word not in punctuation) and (word not in nltk.corpus.stopwords.words('english')) and (word != 'br')]\n",
    "    return doc\n",
    "\n",
    "def stemming(X, y):\n",
    "    sentences_stem = Parallel(n_jobs=4)(delayed(stemmering_sentences)(sentence) for sentence in tqdm.tqdm(X, desc=\"stem\"))\n",
    "    return sentences_stem, y"
   ]
  },
  {
   "cell_type": "code",
   "execution_count": 47,
   "metadata": {
    "collapsed": false
   },
   "outputs": [
    {
     "name": "stderr",
     "output_type": "stream",
     "text": [
      "stem: 100%|██████████| 202715/202715 [01:34<00:00, 2138.92it/s]\n"
     ]
    }
   ],
   "source": [
    "X, y = stemming(X, y)"
   ]
  },
  {
   "cell_type": "code",
   "execution_count": 123,
   "metadata": {
    "collapsed": false
   },
   "outputs": [],
   "source": [
    "#X"
   ]
  },
  {
   "cell_type": "code",
   "execution_count": 58,
   "metadata": {
    "collapsed": false
   },
   "outputs": [],
   "source": [
    "# set parameters:\n",
    "vocab_dim = 20\n",
    "maxlen = 20\n",
    "n_iterations = 20 # ideally more..\n",
    "# Words that appear only once or twice in a billion-word corpus are probably uninteresting typos and garbage. \n",
    "n_exposures = 10\n",
    "window_size = 10\n",
    "batch_size = 128\n",
    "n_epoch = 5\n",
    "input_length = 20\n",
    "cpu_count = multiprocessing.cpu_count()\n"
   ]
  },
  {
   "cell_type": "code",
   "execution_count": 59,
   "metadata": {
    "collapsed": true
   },
   "outputs": [],
   "source": [
    "# combine_train_test_X = terms_by_doc_train + terms_by_doc_test\n",
    "combine_train_test_X = X"
   ]
  },
  {
   "cell_type": "code",
   "execution_count": 60,
   "metadata": {
    "collapsed": false
   },
   "outputs": [
    {
     "name": "stdout",
     "output_type": "stream",
     "text": [
      "Training a Word2vec model...\n"
     ]
    },
    {
     "data": {
      "text/plain": [
       "9064600"
      ]
     },
     "execution_count": 60,
     "metadata": {},
     "output_type": "execute_result"
    }
   ],
   "source": [
    "print('Training a Word2vec model...')\n",
    "bigram = gensim.models.Phrases(combine_train_test_X)\n",
    "#bigram_transformer = gensim.models.Phrases(X)\n",
    "a = list(bigram[bigram[combine_train_test_X]])\n",
    "                   \n",
    "model = Word2Vec(size=vocab_dim,\n",
    "                 min_count=n_exposures,\n",
    "                 window=window_size,\n",
    "                 workers=cpu_count,\n",
    "                 iter=n_iterations)\n",
    "model.build_vocab(a)\n",
    "model.train(a)\n",
    "\n",
    "                  \n",
    "    "
   ]
  },
  {
   "cell_type": "code",
   "execution_count": 61,
   "metadata": {
    "collapsed": false
   },
   "outputs": [
    {
     "name": "stdout",
     "output_type": "stream",
     "text": [
      "Setting up Arrays for Keras Embedding Layer...\n",
      "(11179, 10)\n"
     ]
    }
   ],
   "source": [
    "gensim_dict = Dictionary()\n",
    "gensim_dict.doc2bow(model.vocab.keys(), allow_update=True)\n",
    "# gensim_dict.items() returns [(0, u\"'surpris\"), (1, u'woodi'), (2, u'yellow'),...]\n",
    "# K+1 aims at avoiding 0 as index.\n",
    "w2indx = {v: k+1 for k, v in gensim_dict.items()}\n",
    "w2vec = {word: model[word] for word in w2indx.keys()}\n",
    "# print len(model[\"surpris\"]) -> 100\n",
    "print('Setting up Arrays for Keras Embedding Layer...')\n",
    "n_symbols = len(w2indx) + 1  # adding 1 to account for 0th index\n",
    "embedding_weights = np.zeros((n_symbols + 1, vocab_dim))\n",
    "for word, index in w2indx.items():\n",
    "    embedding_weights[index, :] = w2vec[word]\n",
    "print embedding_weights.shape "
   ]
  },
  {
   "cell_type": "code",
   "execution_count": 62,
   "metadata": {
    "collapsed": false
   },
   "outputs": [],
   "source": [
    "from sklearn.model_selection import train_test_split\n",
    "terms_by_doc_train, terms_by_doc_test, y_train, y_test = train_test_split(X,y, test_size=0.3)\n",
    "X_train = []\n",
    "for doc in terms_by_doc_train:\n",
    "    new_txt = []\n",
    "    for word in doc:\n",
    "        try:\n",
    "            new_txt.append(w2indx[word])\n",
    "        except:\n",
    "            new_txt.append(0)\n",
    "    X_train.append(new_txt)\n",
    "X_test = []\n",
    "for doc in terms_by_doc_test:\n",
    "    new_txt = []\n",
    "    for word in doc:\n",
    "        try:\n",
    "            new_txt.append(w2indx[word])\n",
    "        except:\n",
    "            new_txt.append(0)\n",
    "    X_test.append(new_txt)"
   ]
  },
  {
   "cell_type": "code",
   "execution_count": 63,
   "metadata": {
    "collapsed": false
   },
   "outputs": [
    {
     "name": "stdout",
     "output_type": "stream",
     "text": [
      "Pad sequences (samples x time)\n",
      "(u'X_train shape:', (141900, 20))\n",
      "(u'X_test shape:', (60815, 20))\n",
      "(u'X_train shape:', (141900,))\n",
      "(u'X_test shape:', (60815,))\n"
     ]
    }
   ],
   "source": [
    "print(\"Pad sequences (samples x time)\")\n",
    "X_train = sequence.pad_sequences(X_train, maxlen=maxlen)\n",
    "X_test = sequence.pad_sequences(X_test, maxlen=maxlen)\n",
    "print('X_train shape:', X_train.shape)\n",
    "print('X_test shape:', X_test.shape)\n",
    "y_train = np.array(y_train)\n",
    "y_test = np.array(y_test)\n",
    "print('X_train shape:',  y_train.shape)\n",
    "print('X_test shape:', y_test.shape)"
   ]
  },
  {
   "cell_type": "code",
   "execution_count": 64,
   "metadata": {
    "collapsed": true
   },
   "outputs": [],
   "source": [
    "from keras.objectives import  categorical_crossentropy\n",
    "\n",
    "def loss_fct(y_true, y_pred):\n",
    "    \n",
    "    \n",
    "    # l2 = 0.001 * (model.layers[0].W**2).sum()\n",
    "    l2 = 0\n",
    "    return categorical_crossentropy(y_true, y_pred) + l2\n",
    "\n"
   ]
  },
  {
   "cell_type": "code",
   "execution_count": 110,
   "metadata": {
    "collapsed": false
   },
   "outputs": [],
   "source": [
    "from keras import backend as K\n",
    "import numpy as np\n",
    "\n",
    "def my_init(shape, name=None):\n",
    "    value = np.sqrt(6/np.random.random(shape))\n",
    "    return K.variable(value, name=name)\n",
    "\n",
    "#w = np.random.normal(loc=0.0, scale=sigma/np.sqrt(nn_arch[i]), size=(nn_arch[i+1],nn_arch[i]))"
   ]
  },
  {
   "cell_type": "code",
   "execution_count": null,
   "metadata": {
    "collapsed": false
   },
   "outputs": [],
   "source": [
    "print('Defining a Simple Keras Model...')\n",
    "model = Sequential()  # or Graph or whatever\n",
    "model.add(Embedding(input_dim=n_symbols + 1,\n",
    "                    output_dim=vocab_dim,\n",
    "                    mask_zero=True,\n",
    "                    weights=[embedding_weights],\n",
    "                    input_length=input_length))  # Adding Input Length\n",
    "\n",
    "\n",
    "\n",
    "\n",
    "#input_length=input_length))  # Adding Input \n",
    "\n",
    "\n",
    "model.add(LSTM(vocab_dim ,dropout_W=0.2, dropout_U=0.2 ))\n",
    "#model.add(Dropout(12))\n",
    "model.add(Dense(1, activation='relu'))\n",
    "#model.add(Dense(1, activation='relu'))\n",
    "\n",
    "sgd = keras.optimizers.SGD(lr=0.01, momentum=0.1, decay=0, nesterov=True)\n",
    "adam = keras.optimizers.Adam(lr=0.2, beta_1=0.2, beta_2=0.2, epsilon=0.1, decay=0.5)\n",
    "adamax = keras.optimizers.Adamax(lr=0.2, beta_1=0.2, beta_2=0.2, epsilon=0.1 ,decay=0)\n",
    "prop = keras.optimizers.RMSprop(lr=0.001, rho=0.9, epsilon=1e-08, decay=0)\n",
    "\n",
    "print('Compiling the Model...')\n",
    "\n",
    "\n",
    "model.compile(loss='mean_absolute_error', optimizer='rmsprop', metrics=['accuracy'])\n",
    "\n",
    "print(\"Train...\")\n",
    "history  = model.fit(X_train, y_train, batch_size=batch_size, nb_epoch=20,\n",
    "          validation_data=(X_test, y_test))\n",
    "\n",
    "print(\"Evaluate...\")\n",
    "score, acc = model.evaluate(X_test, y_test)\n",
    "print('Test score:', score)\n",
    "print('Test accuracy:', acc)"
   ]
  },
  {
   "cell_type": "code",
   "execution_count": 27,
   "metadata": {
    "collapsed": false
   },
   "outputs": [
    {
     "name": "stdout",
     "output_type": "stream",
     "text": [
      "(u'Test score:', 0.63571724578031319)\n",
      "(u'Test accuracy:', 0.42162295486555967)\n"
     ]
    }
   ],
   "source": [
    "print('Test score:', score)\n",
    "print('Test accuracy:', acc)"
   ]
  },
  {
   "cell_type": "code",
   "execution_count": null,
   "metadata": {
    "collapsed": true
   },
   "outputs": [],
   "source": []
  },
  {
   "cell_type": "code",
   "execution_count": 28,
   "metadata": {
    "collapsed": false
   },
   "outputs": [
    {
     "data": {
      "image/png": "[encoded data removed]",
      "text/plain": [
       "<matplotlib.figure.Figure at 0x7f8e351b8650>"
      ]
     },
     "metadata": {},
     "output_type": "display_data"
    }
   ],
   "source": [
    "import matplotlib.pyplot as plt\n",
    "%matplotlib inline\n",
    "\n",
    "plt.plot(history.history['acc'],label = 'acc train')\n",
    "plt.plot(history.history['val_acc'],label = 'acc val')\n",
    "\n",
    "\n",
    "\n",
    "plt.xlabel(\"epoch\")\n",
    "plt.ylabel(\"Accuarcay\")\n",
    "\n",
    "plt.legend(loc='best')\n",
    "plt.show()\n"
   ]
  },
  {
   "cell_type": "code",
   "execution_count": null,
   "metadata": {
    "collapsed": true
   },
   "outputs": [],
   "source": []
  }
 ],
 "metadata": {
  "kernelspec": {
   "display_name": "Python 2",
   "language": "python",
   "name": "python2"
  },
  "language_info": {
   "codemirror_mode": {
    "name": "ipython",
    "version": 2
   },
   "file_extension": ".py",
   "mimetype": "text/x-python",
   "name": "python",
   "nbconvert_exporter": "python",
   "pygments_lexer": "ipython2",
   "version": "2.7.12"
  }
 },
 "nbformat": 4,
 "nbformat_minor": 1
}
